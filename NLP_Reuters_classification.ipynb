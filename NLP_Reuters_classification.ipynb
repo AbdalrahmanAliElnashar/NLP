{
  "nbformat": 4,
  "nbformat_minor": 0,
  "metadata": {
    "colab": {
      "provenance": [],
      "authorship_tag": "ABX9TyMvqGLJdXa33HQgnW3v3a3q",
      "include_colab_link": true
    },
    "kernelspec": {
      "name": "python3",
      "display_name": "Python 3"
    },
    "language_info": {
      "name": "python"
    }
  },
  "cells": [
    {
      "cell_type": "markdown",
      "metadata": {
        "id": "view-in-github",
        "colab_type": "text"
      },
      "source": [
        "<a href=\"https://colab.research.google.com/github/AbdalrahmanAliElnashar/NLP/blob/main/NLP_Reuters_classification.ipynb\" target=\"_parent\"><img src=\"https://colab.research.google.com/assets/colab-badge.svg\" alt=\"Open In Colab\"/></a>"
      ]
    },
    {
      "cell_type": "markdown",
      "source": [
        "## Import keras and reuters dataset"
      ],
      "metadata": {
        "id": "ijetPsu7plnw"
      }
    },
    {
      "cell_type": "code",
      "execution_count": null,
      "metadata": {
        "id": "nFoGbbJGOf0V"
      },
      "outputs": [],
      "source": [
        "import keras\n",
        "from keras.datasets import reuters"
      ]
    },
    {
      "cell_type": "markdown",
      "source": [
        "## Access dataset"
      ],
      "metadata": {
        "id": "FKqA92GgpkLm"
      }
    },
    {
      "cell_type": "code",
      "source": [
        "(train_data, train_labels), (test_data, test_labels) = reuters.load_data(num_words=10000, test_split=0.2)\n",
        "word_index = reuters.get_word_index(path=\"reuters_word_index.json\")\n",
        "\n",
        "print('# of Training Samples: {}'.format(len(train_data)))\n",
        "print('# of Test Samples: {}'.format(len(test_data)))\n",
        "\n",
        "num_classes = max(train_labels) + 1\n",
        "print('# of Classes: {}'.format(num_classes))"
      ],
      "metadata": {
        "id": "3IpjekjTOjrd",
        "colab": {
          "base_uri": "https://localhost:8080/"
        },
        "outputId": "68cf7a85-b804-451b-c6ef-9c3b40b1a3c5"
      },
      "execution_count": null,
      "outputs": [
        {
          "output_type": "stream",
          "name": "stdout",
          "text": [
            "# of Training Samples: 8982\n",
            "# of Test Samples: 2246\n",
            "# of Classes: 46\n"
          ]
        }
      ]
    },
    {
      "cell_type": "code",
      "source": [
        "train_labels[100]"
      ],
      "metadata": {
        "colab": {
          "base_uri": "https://localhost:8080/"
        },
        "id": "_Zc7ZGI-I4Lt",
        "outputId": "b15f398e-8503-4d0a-df3c-22b48eb3aab2"
      },
      "execution_count": null,
      "outputs": [
        {
          "output_type": "execute_result",
          "data": {
            "text/plain": [
              "20"
            ]
          },
          "metadata": {},
          "execution_count": 88
        }
      ]
    },
    {
      "cell_type": "markdown",
      "source": [
        "## Prepare data"
      ],
      "metadata": {
        "id": "aUgMcVtcqdLP"
      }
    },
    {
      "cell_type": "code",
      "source": [
        "word_index = reuters.get_word_index()\n",
        "reverse_word_index = dict([(value, key) for (key, value) in word_index.items()])\n",
        "# Note that our indices were offset by 3\n",
        "# because 0, 1 and 2 are reserved indices for \"padding\", \"start of sequence\", and \"unknown\".\n",
        "decoded_newswire = ' '.join([reverse_word_index.get(i - 3, '?') for i in train_data[0]])\n",
        "# reverse_word_index\n",
        "# decoded_newswire"
      ],
      "metadata": {
        "id": "RYRjuLtepzaz"
      },
      "execution_count": null,
      "outputs": []
    },
    {
      "cell_type": "code",
      "source": [
        "train_labels[10]"
      ],
      "metadata": {
        "colab": {
          "base_uri": "https://localhost:8080/"
        },
        "id": "QiQdeXXWqbsU",
        "outputId": "fcacc827-3b4d-488b-c3ef-1bb3093d2cc3"
      },
      "execution_count": null,
      "outputs": [
        {
          "output_type": "execute_result",
          "data": {
            "text/plain": [
              "3"
            ]
          },
          "metadata": {},
          "execution_count": 75
        }
      ]
    },
    {
      "cell_type": "markdown",
      "source": [
        "## Vectorization data"
      ],
      "metadata": {
        "id": "hfSZy7U9VqXu"
      }
    },
    {
      "cell_type": "code",
      "source": [
        "import numpy as np\n",
        "\n",
        "def vectorize_sequences(sequences, dimension=10000):\n",
        "    results = np.zeros((len(sequences), dimension))\n",
        "    for i, sequence in enumerate(sequences):\n",
        "        results[i, sequence] = 1.\n",
        "    return results\n",
        "\n",
        "# Our vectorized training data\n",
        "x_train = vectorize_sequences(train_data)\n",
        "# Our vectorized test data\n",
        "x_test = vectorize_sequences(test_data)\n",
        "\n",
        "x_train,x_train.shape,x_train.ndim"
      ],
      "metadata": {
        "colab": {
          "base_uri": "https://localhost:8080/"
        },
        "id": "PAltknYSrbiq",
        "outputId": "cd3d5a0a-793a-4715-c79d-3bd7ae1f7213"
      },
      "execution_count": null,
      "outputs": [
        {
          "output_type": "execute_result",
          "data": {
            "text/plain": [
              "(array([[0., 1., 1., ..., 0., 0., 0.],\n",
              "        [0., 1., 1., ..., 0., 0., 0.],\n",
              "        [0., 1., 1., ..., 0., 0., 0.],\n",
              "        ...,\n",
              "        [0., 1., 1., ..., 0., 0., 0.],\n",
              "        [0., 1., 1., ..., 0., 0., 0.],\n",
              "        [0., 1., 1., ..., 0., 0., 0.]]), (8982, 10000), 2)"
            ]
          },
          "metadata": {},
          "execution_count": 76
        }
      ]
    },
    {
      "cell_type": "code",
      "source": [
        "import numpy as np\n",
        "\n",
        "def vectorize_sequences(sequences, dimension=10):\n",
        "    results = np.zeros((len(sequences), dimension))\n",
        "    for i, sequence in enumerate(sequences):\n",
        "        results[i, sequence] = 1.\n",
        "    return results\n",
        "\n",
        "# # Our vectorized training data\n",
        "# x_train = vectorize_sequences(train_data)\n",
        "# # Our vectorized test data\n",
        "# x_test = vectorize_sequences(test_data)\n",
        "# x_train[0],x_train.shape,x_train.ndim\n",
        "data=[1,2,4,9,0]\n",
        "x= vectorize_sequences(data)\n",
        "x,x.shape,x.ndim"
      ],
      "metadata": {
        "colab": {
          "base_uri": "https://localhost:8080/"
        },
        "id": "uweWBQF5s2Ep",
        "outputId": "288a5855-520f-42a5-c911-6b18bcc1e3e4"
      },
      "execution_count": null,
      "outputs": [
        {
          "output_type": "execute_result",
          "data": {
            "text/plain": [
              "(array([[0., 1., 0., 0., 0., 0., 0., 0., 0., 0.],\n",
              "        [0., 0., 1., 0., 0., 0., 0., 0., 0., 0.],\n",
              "        [0., 0., 0., 0., 1., 0., 0., 0., 0., 0.],\n",
              "        [0., 0., 0., 0., 0., 0., 0., 0., 0., 1.],\n",
              "        [1., 0., 0., 0., 0., 0., 0., 0., 0., 0.]]), (5, 10), 2)"
            ]
          },
          "metadata": {},
          "execution_count": 77
        }
      ]
    },
    {
      "cell_type": "code",
      "source": [
        "def to_one_hot(labels, dimension=46):\n",
        "    results = np.zeros((len(labels), dimension))\n",
        "    for i, label in enumerate(labels):\n",
        "        results[i, label] = 1.\n",
        "    return results\n",
        "\n",
        "# Our vectorized training labels\n",
        "one_hot_train_labels = to_one_hot(train_labels)\n",
        "# Our vectorized test labels\n",
        "one_hot_test_labels = to_one_hot(test_labels)\n",
        "one_hot_train_labels,one_hot_train_labels.shape,one_hot_train_labels.ndim"
      ],
      "metadata": {
        "colab": {
          "base_uri": "https://localhost:8080/"
        },
        "id": "TSjYNbOts7ZP",
        "outputId": "a5453930-c180-49ff-c369-b2f2cac42009"
      },
      "execution_count": null,
      "outputs": [
        {
          "output_type": "execute_result",
          "data": {
            "text/plain": [
              "(array([[0., 0., 0., ..., 0., 0., 0.],\n",
              "        [0., 0., 0., ..., 0., 0., 0.],\n",
              "        [0., 0., 0., ..., 0., 0., 0.],\n",
              "        ...,\n",
              "        [0., 0., 0., ..., 0., 0., 0.],\n",
              "        [0., 0., 0., ..., 0., 0., 0.],\n",
              "        [0., 0., 0., ..., 0., 0., 0.]]), (8982, 46), 2)"
            ]
          },
          "metadata": {},
          "execution_count": 78
        }
      ]
    },
    {
      "cell_type": "code",
      "source": [
        "from keras.utils.np_utils import to_categorical\n",
        "\n",
        "one_hot_train_labels = to_categorical(train_labels)\n",
        "one_hot_test_labels = to_categorical(test_labels)"
      ],
      "metadata": {
        "id": "0-P-t87u2qwX"
      },
      "execution_count": null,
      "outputs": []
    },
    {
      "cell_type": "markdown",
      "source": [
        "## Building Neural Networks"
      ],
      "metadata": {
        "id": "9CyZOaUX2vPY"
      }
    },
    {
      "cell_type": "code",
      "source": [
        "from keras import models\n",
        "from keras import layers\n",
        "\n",
        "model = models.Sequential()\n",
        "model.add(layers.Dense(64, activation='relu', input_shape=(10000,)))\n",
        "model.add(layers.Dense(64, activation='relu'))\n",
        "model.add(layers.Dense(46, activation='softmax'))\n",
        "model.compile(optimizer='rmsprop',\n",
        "              loss='categorical_crossentropy',\n",
        "              metrics=['accuracy'])\n",
        "x_val = x_train[:1000]\n",
        "partial_x_train = x_train[1000:]\n",
        "\n",
        "y_val = one_hot_train_labels[:1000]\n",
        "partial_y_train = one_hot_train_labels[1000:]\n",
        "\n",
        "# train network with 20 epochs\n",
        "history = model.fit(partial_x_train,\n",
        "                    partial_y_train,\n",
        "                    epochs=20,\n",
        "                    batch_size=512,\n",
        "                    validation_data=(x_val, y_val))"
      ],
      "metadata": {
        "colab": {
          "base_uri": "https://localhost:8080/"
        },
        "id": "pC4ODogP2skS",
        "outputId": "5fb70c0e-103e-482d-cf04-9a4faa958d3c"
      },
      "execution_count": null,
      "outputs": [
        {
          "output_type": "stream",
          "name": "stdout",
          "text": [
            "Epoch 1/20\n",
            "16/16 [==============================] - 1s 58ms/step - loss: 2.5479 - accuracy: 0.5059 - val_loss: 1.7058 - val_accuracy: 0.6340\n",
            "Epoch 2/20\n",
            "16/16 [==============================] - 1s 48ms/step - loss: 1.4243 - accuracy: 0.7042 - val_loss: 1.3364 - val_accuracy: 0.7050\n",
            "Epoch 3/20\n",
            "16/16 [==============================] - 1s 47ms/step - loss: 1.0754 - accuracy: 0.7705 - val_loss: 1.1645 - val_accuracy: 0.7360\n",
            "Epoch 4/20\n",
            "16/16 [==============================] - 1s 47ms/step - loss: 0.8442 - accuracy: 0.8181 - val_loss: 1.0347 - val_accuracy: 0.7730\n",
            "Epoch 5/20\n",
            "16/16 [==============================] - 1s 47ms/step - loss: 0.6703 - accuracy: 0.8591 - val_loss: 0.9737 - val_accuracy: 0.7920\n",
            "Epoch 6/20\n",
            "16/16 [==============================] - 1s 48ms/step - loss: 0.5344 - accuracy: 0.8914 - val_loss: 0.9436 - val_accuracy: 0.7930\n",
            "Epoch 7/20\n",
            "16/16 [==============================] - 1s 47ms/step - loss: 0.4261 - accuracy: 0.9141 - val_loss: 0.8932 - val_accuracy: 0.8120\n",
            "Epoch 8/20\n",
            "16/16 [==============================] - 1s 46ms/step - loss: 0.3518 - accuracy: 0.9282 - val_loss: 0.8761 - val_accuracy: 0.8140\n",
            "Epoch 9/20\n",
            "16/16 [==============================] - 1s 47ms/step - loss: 0.2873 - accuracy: 0.9392 - val_loss: 0.8736 - val_accuracy: 0.8260\n",
            "Epoch 10/20\n",
            "16/16 [==============================] - 1s 46ms/step - loss: 0.2406 - accuracy: 0.9444 - val_loss: 0.8926 - val_accuracy: 0.8130\n",
            "Epoch 11/20\n",
            "16/16 [==============================] - 1s 48ms/step - loss: 0.2079 - accuracy: 0.9486 - val_loss: 0.9871 - val_accuracy: 0.7880\n",
            "Epoch 12/20\n",
            "16/16 [==============================] - 1s 46ms/step - loss: 0.1832 - accuracy: 0.9521 - val_loss: 0.9550 - val_accuracy: 0.7980\n",
            "Epoch 13/20\n",
            "16/16 [==============================] - 1s 47ms/step - loss: 0.1668 - accuracy: 0.9529 - val_loss: 0.9301 - val_accuracy: 0.8160\n",
            "Epoch 14/20\n",
            "16/16 [==============================] - 1s 47ms/step - loss: 0.1536 - accuracy: 0.9530 - val_loss: 0.9798 - val_accuracy: 0.8110\n",
            "Epoch 15/20\n",
            "16/16 [==============================] - 1s 46ms/step - loss: 0.1389 - accuracy: 0.9563 - val_loss: 1.0320 - val_accuracy: 0.7980\n",
            "Epoch 16/20\n",
            "16/16 [==============================] - 1s 47ms/step - loss: 0.1322 - accuracy: 0.9567 - val_loss: 1.0157 - val_accuracy: 0.7990\n",
            "Epoch 17/20\n",
            "16/16 [==============================] - 1s 47ms/step - loss: 0.1224 - accuracy: 0.9572 - val_loss: 1.0292 - val_accuracy: 0.7970\n",
            "Epoch 18/20\n",
            "16/16 [==============================] - 1s 47ms/step - loss: 0.1197 - accuracy: 0.9582 - val_loss: 1.0561 - val_accuracy: 0.8050\n",
            "Epoch 19/20\n",
            "16/16 [==============================] - 1s 47ms/step - loss: 0.1178 - accuracy: 0.9587 - val_loss: 1.1076 - val_accuracy: 0.7890\n",
            "Epoch 20/20\n",
            "16/16 [==============================] - 1s 47ms/step - loss: 0.1105 - accuracy: 0.9569 - val_loss: 1.0374 - val_accuracy: 0.8020\n"
          ]
        }
      ]
    },
    {
      "cell_type": "markdown",
      "source": [
        "## Loss Function and accuarcy Curves\n",
        "\n",
        "\n"
      ],
      "metadata": {
        "id": "CHLpUkZz3Lfa"
      }
    },
    {
      "cell_type": "code",
      "source": [
        "import matplotlib.pyplot as plt\n",
        "\n",
        "loss = history.history['loss']\n",
        "val_loss = history.history['val_loss']\n",
        "\n",
        "epochs = range(1, len(loss) + 1)\n",
        "\n",
        "plt.plot(epochs, loss, 'bo', label='Training loss')\n",
        "plt.plot(epochs, val_loss, 'b', label='Validation loss')\n",
        "plt.title('Training and validation loss')\n",
        "plt.xlabel('Epochs')\n",
        "plt.ylabel('Loss')\n",
        "plt.legend()\n",
        "\n",
        "plt.show()"
      ],
      "metadata": {
        "colab": {
          "base_uri": "https://localhost:8080/",
          "height": 295
        },
        "id": "uvBz-a4V2zYn",
        "outputId": "249cabc1-2b01-4003-b6e3-0446c6ec4ce7"
      },
      "execution_count": null,
      "outputs": [
        {
          "output_type": "display_data",
          "data": {
            "text/plain": [
              "<Figure size 432x288 with 1 Axes>"
            ],
            "image/png": "[encoded data removed]"
          },
          "metadata": {
            "needs_background": "light"
          }
        }
      ]
    },
    {
      "cell_type": "code",
      "source": [
        "plt.clf()  \n",
        "\n",
        "acc = history.history['accuracy']\n",
        "val_acc = history.history['val_accuracy']\n",
        "\n",
        "plt.plot(epochs, acc, 'bo', label='Training acc')\n",
        "plt.plot(epochs, val_acc, 'b', label='Validation acc')\n",
        "plt.title('Training and validation accuracy')\n",
        "plt.xlabel('Epochs')\n",
        "plt.ylabel('Loss')\n",
        "plt.legend()\n",
        "\n",
        "plt.show()"
      ],
      "metadata": {
        "colab": {
          "base_uri": "https://localhost:8080/",
          "height": 295
        },
        "id": "hgMyZFo43OJq",
        "outputId": "22419975-bb85-4025-f21f-4778a3815fd7"
      },
      "execution_count": null,
      "outputs": [
        {
          "output_type": "display_data",
          "data": {
            "text/plain": [
              "<Figure size 432x288 with 1 Axes>"
            ],
            "image/png": "[encoded data removed]"
          },
          "metadata": {
            "needs_background": "light"
          }
        }
      ]
    },
    {
      "cell_type": "markdown",
      "source": [
        "#### loss function of validation dataset starts overfitting after 8 epochs so we will reduce the number of epochs"
      ],
      "metadata": {
        "id": "oBWPhh14SNmn"
      }
    },
    {
      "cell_type": "markdown",
      "source": [
        "## Build neural network with 8 epochs"
      ],
      "metadata": {
        "id": "t-US4yEjSj5Y"
      }
    },
    {
      "cell_type": "code",
      "source": [
        "from keras import models\n",
        "from keras import layers\n",
        "\n",
        "model = models.Sequential()\n",
        "model.add(layers.Dense(64, activation='relu', input_shape=(10000,)))\n",
        "model.add(layers.Dense(64, activation='relu'))\n",
        "model.add(layers.Dense(46, activation='softmax'))\n",
        "model.compile(optimizer='rmsprop',\n",
        "              loss='categorical_crossentropy',\n",
        "              metrics=['accuracy'])\n",
        "x_val = x_train[:1000]\n",
        "partial_x_train = x_train[1000:]\n",
        "\n",
        "y_val = one_hot_train_labels[:1000]\n",
        "partial_y_train = one_hot_train_labels[1000:]\n",
        "\n",
        "# train network with 20 epochs\n",
        "history = model.fit(partial_x_train,\n",
        "                    partial_y_train,\n",
        "                    epochs=8,\n",
        "                    batch_size=512,\n",
        "                    validation_data=(x_val, y_val))"
      ],
      "metadata": {
        "colab": {
          "base_uri": "https://localhost:8080/"
        },
        "id": "bJNGI73qSK6Q",
        "outputId": "41ad5470-0850-4293-a828-7423c022df44"
      },
      "execution_count": null,
      "outputs": [
        {
          "output_type": "stream",
          "name": "stdout",
          "text": [
            "Epoch 1/8\n",
            "16/16 [==============================] - 1s 58ms/step - loss: 2.6120 - accuracy: 0.5169 - val_loss: 1.7390 - val_accuracy: 0.6200\n",
            "Epoch 2/8\n",
            "16/16 [==============================] - 1s 47ms/step - loss: 1.4222 - accuracy: 0.6927 - val_loss: 1.3030 - val_accuracy: 0.6970\n",
            "Epoch 3/8\n",
            "16/16 [==============================] - 1s 47ms/step - loss: 1.0568 - accuracy: 0.7736 - val_loss: 1.1255 - val_accuracy: 0.7490\n",
            "Epoch 4/8\n",
            "16/16 [==============================] - 1s 48ms/step - loss: 0.8300 - accuracy: 0.8215 - val_loss: 1.0262 - val_accuracy: 0.7800\n",
            "Epoch 5/8\n",
            "16/16 [==============================] - 1s 48ms/step - loss: 0.6659 - accuracy: 0.8572 - val_loss: 0.9935 - val_accuracy: 0.7680\n",
            "Epoch 6/8\n",
            "16/16 [==============================] - 1s 47ms/step - loss: 0.5323 - accuracy: 0.8880 - val_loss: 0.9307 - val_accuracy: 0.8060\n",
            "Epoch 7/8\n",
            "16/16 [==============================] - 1s 46ms/step - loss: 0.4274 - accuracy: 0.9142 - val_loss: 0.9029 - val_accuracy: 0.8130\n",
            "Epoch 8/8\n",
            "16/16 [==============================] - 1s 48ms/step - loss: 0.3500 - accuracy: 0.9256 - val_loss: 0.8994 - val_accuracy: 0.8120\n"
          ]
        }
      ]
    },
    {
      "cell_type": "markdown",
      "source": [
        "##Loss Function and accuarcy Curves"
      ],
      "metadata": {
        "id": "YaDREJ5PS88R"
      }
    },
    {
      "cell_type": "code",
      "source": [
        "import matplotlib.pyplot as plt\n",
        "\n",
        "loss = history.history['loss']\n",
        "val_loss = history.history['val_loss']\n",
        "\n",
        "epochs = range(1, len(loss) + 1)\n",
        "\n",
        "plt.plot(epochs, loss, 'bo', label='Training loss')\n",
        "plt.plot(epochs, val_loss, 'b', label='Validation loss')\n",
        "plt.title('Training and validation loss')\n",
        "plt.xlabel('Epochs')\n",
        "plt.ylabel('Loss')\n",
        "plt.legend()\n",
        "\n",
        "plt.show()"
      ],
      "metadata": {
        "colab": {
          "base_uri": "https://localhost:8080/",
          "height": 295
        },
        "id": "e2nLFy-CSvbn",
        "outputId": "d0dde3d4-a3b8-4738-9f2a-da3e4267e416"
      },
      "execution_count": null,
      "outputs": [
        {
          "output_type": "display_data",
          "data": {
            "text/plain": [
              "<Figure size 432x288 with 1 Axes>"
            ],
            "image/png": "[encoded data removed]"
          },
          "metadata": {
            "needs_background": "light"
          }
        }
      ]
    },
    {
      "cell_type": "code",
      "source": [
        "plt.clf()   # clear figure\n",
        "\n",
        "acc = history.history['accuracy']\n",
        "val_acc = history.history['val_accuracy']\n",
        "\n",
        "plt.plot(epochs, acc, 'bo', label='Training acc')\n",
        "plt.plot(epochs, val_acc, 'b', label='Validation acc')\n",
        "plt.title('Training and validation accuracy')\n",
        "plt.xlabel('Epochs')\n",
        "plt.ylabel('Loss')\n",
        "plt.legend()\n",
        "\n",
        "plt.show()"
      ],
      "metadata": {
        "colab": {
          "base_uri": "https://localhost:8080/",
          "height": 295
        },
        "id": "BWlmJPJBS1SL",
        "outputId": "6c3c8763-7c5b-4e16-86bf-c74939710ea2"
      },
      "execution_count": null,
      "outputs": [
        {
          "output_type": "display_data",
          "data": {
            "text/plain": [
              "<Figure size 432x288 with 1 Axes>"
            ],
            "image/png": "[encoded data removed]"
          },
          "metadata": {
            "needs_background": "light"
          }
        }
      ]
    }
  ]
}